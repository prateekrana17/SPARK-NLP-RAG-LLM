{
  "nbformat": 4,
  "nbformat_minor": 0,
  "metadata": {
    "colab": {
      "provenance": [],
      "gpuType": "T4",
      "authorship_tag": "ABX9TyMmOXZMBRfsXgRtjJQRcnzl",
      "include_colab_link": true
    },
    "kernelspec": {
      "name": "python3",
      "display_name": "Python 3"
    },
    "language_info": {
      "name": "python"
    },
    "accelerator": "GPU"
  },
  "cells": [
    {
      "cell_type": "markdown",
      "metadata": {
        "id": "view-in-github",
        "colab_type": "text"
      },
      "source": [
        "<a href=\"https://colab.research.google.com/github/prateekrana17/SPARK-NLP-RAG-LLM/blob/main/LinkedIn_Scrape.ipynb\" target=\"_parent\"><img src=\"https://colab.research.google.com/assets/colab-badge.svg\" alt=\"Open In Colab\"/></a>"
      ]
    },
    {
      "cell_type": "code",
      "execution_count": 1,
      "metadata": {
        "id": "jHdjfos30Skw"
      },
      "outputs": [],
      "source": [
        "import requests"
      ]
    },
    {
      "cell_type": "code",
      "source": [
        "api_key = 'AvLOvUwTndy-PgJjzB03RQ'\n",
        "linkedin_profile_url = 'https://www.linkedin.com/in/barrie-painter-2958823a/'\n",
        "headers = {'Authorization': 'Bearer ' + api_key}\n",
        "api_endpoint = 'https://nubela.co/proxycurl/api/v2/linkedin'\n"
      ],
      "metadata": {
        "id": "MYZph3yy0Xsz"
      },
      "execution_count": 2,
      "outputs": []
    },
    {
      "cell_type": "code",
      "source": [
        "response = requests.get(\n",
        "    api_endpoint,\n",
        "    params={'url': linkedin_profile_url,},\n",
        "    headers=headers\n",
        ")"
      ],
      "metadata": {
        "id": "BxV7BvdO1drb"
      },
      "execution_count": 3,
      "outputs": []
    },
    {
      "cell_type": "code",
      "source": [
        "profile_data=response.json()"
      ],
      "metadata": {
        "id": "gQUiLiSz1rQb"
      },
      "execution_count": 4,
      "outputs": []
    },
    {
      "cell_type": "code",
      "source": [
        "profile_data.keys()"
      ],
      "metadata": {
        "colab": {
          "base_uri": "https://localhost:8080/"
        },
        "id": "F_xf_dNr2okG",
        "outputId": "5091b04a-7aa3-4e8e-cda4-9e684ce3d8a1"
      },
      "execution_count": 6,
      "outputs": [
        {
          "output_type": "execute_result",
          "data": {
            "text/plain": [
              "dict_keys(['public_identifier', 'profile_pic_url', 'background_cover_image_url', 'first_name', 'last_name', 'full_name', 'follower_count', 'occupation', 'headline', 'summary', 'country', 'country_full_name', 'city', 'state', 'experiences', 'education', 'languages', 'accomplishment_organisations', 'accomplishment_publications', 'accomplishment_honors_awards', 'accomplishment_patents', 'accomplishment_courses', 'accomplishment_projects', 'accomplishment_test_scores', 'volunteer_work', 'certifications', 'connections', 'people_also_viewed', 'recommendations', 'activities', 'similarly_named_profiles', 'articles', 'groups', 'skills', 'inferred_salary', 'gender', 'birth_date', 'industry', 'extra', 'interests', 'personal_emails', 'personal_numbers'])"
            ]
          },
          "metadata": {},
          "execution_count": 6
        }
      ]
    },
    {
      "cell_type": "code",
      "source": [
        "import pandas as pd"
      ],
      "metadata": {
        "id": "TB4RhwDu2_AX"
      },
      "execution_count": 9,
      "outputs": []
    },
    {
      "cell_type": "code",
      "source": [
        "df = pd.json_normalize(profile_data)"
      ],
      "metadata": {
        "id": "qv5Zf5bi3fVB"
      },
      "execution_count": 12,
      "outputs": []
    },
    {
      "cell_type": "code",
      "source": [
        "# Write to CSV\n",
        "df.to_csv(\"output.csv\", index=False)"
      ],
      "metadata": {
        "id": "Nv7qzV5l4MzV"
      },
      "execution_count": 13,
      "outputs": []
    },
    {
      "cell_type": "code",
      "source": [],
      "metadata": {
        "id": "klmo6zTt4Mo8"
      },
      "execution_count": null,
      "outputs": []
    },
    {
      "cell_type": "code",
      "source": [],
      "metadata": {
        "id": "NS2ssBJ83fHh"
      },
      "execution_count": null,
      "outputs": []
    }
  ]
}