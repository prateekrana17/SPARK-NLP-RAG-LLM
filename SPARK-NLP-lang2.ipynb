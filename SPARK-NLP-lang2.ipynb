{
  "nbformat": 4,
  "nbformat_minor": 0,
  "metadata": {
    "colab": {
      "provenance": [],
      "authorship_tag": "ABX9TyNQYqz/GvKiRVZSTlGKuVSG",
      "include_colab_link": true
    },
    "kernelspec": {
      "name": "python3",
      "display_name": "Python 3"
    },
    "language_info": {
      "name": "python"
    }
  },
  "cells": [
    {
      "cell_type": "markdown",
      "metadata": {
        "id": "view-in-github",
        "colab_type": "text"
      },
      "source": [
        "<a href=\"https://colab.research.google.com/github/prateekrana17/SPARK-NLP-RAG-LLM/blob/main/SPARK-NLP-lang2.ipynb\" target=\"_parent\"><img src=\"https://colab.research.google.com/assets/colab-badge.svg\" alt=\"Open In Colab\"/></a>"
      ]
    },
    {
      "cell_type": "code",
      "execution_count": 1,
      "metadata": {
        "id": "o4dDVh4J3SPZ",
        "outputId": "f58df7c1-8dbb-41cd-ceda-a409dada2865",
        "colab": {
          "base_uri": "https://localhost:8080/"
        }
      },
      "outputs": [
        {
          "output_type": "stream",
          "name": "stdout",
          "text": [
            "--2024-05-13 04:41:25--  https://raw.githubusercontent.com/JohnSnowLabs/spark-nlp/master/scripts/colab_setup.sh\n",
            "Resolving raw.githubusercontent.com (raw.githubusercontent.com)... 185.199.109.133, 185.199.108.133, 185.199.110.133, ...\n",
            "Connecting to raw.githubusercontent.com (raw.githubusercontent.com)|185.199.109.133|:443... connected.\n",
            "HTTP request sent, awaiting response... 200 OK\n",
            "Length: 1191 (1.2K) [text/plain]\n",
            "Saving to: ‘colab_setup.sh.1’\n",
            "\n",
            "\rcolab_setup.sh.1      0%[                    ]       0  --.-KB/s               \rcolab_setup.sh.1    100%[===================>]   1.16K  --.-KB/s    in 0s      \n",
            "\n",
            "2024-05-13 04:41:25 (83.7 MB/s) - ‘colab_setup.sh.1’ saved [1191/1191]\n",
            "\n"
          ]
        }
      ],
      "source": [
        "!wget https://raw.githubusercontent.com/JohnSnowLabs/spark-nlp/master/scripts/colab_setup.sh\n"
      ]
    },
    {
      "cell_type": "code",
      "source": [
        "!bash colab_setup.sh"
      ],
      "metadata": {
        "id": "5lj5SGQz3lH7",
        "outputId": "f03e28ac-38c1-41f1-b7cf-9f3634547682",
        "colab": {
          "base_uri": "https://localhost:8080/"
        }
      },
      "execution_count": 2,
      "outputs": [
        {
          "output_type": "stream",
          "name": "stdout",
          "text": [
            "Installing PySpark 3.2.3 and Spark NLP 5.3.3\n",
            "setup Colab for PySpark 3.2.3 and Spark NLP 5.3.3\n"
          ]
        }
      ]
    },
    {
      "cell_type": "code",
      "source": [
        "\n",
        "# Install sparknlp-display, spark nlp and PySpark\n",
        "! pip install -q pyspark==3.3.0 spark-nlp==4.2.8\n"
      ],
      "metadata": {
        "id": "-ntUVTNu3lE2"
      },
      "execution_count": 3,
      "outputs": []
    },
    {
      "cell_type": "code",
      "source": [
        "#import library\n",
        "import sparknlp\n",
        "import json\n",
        "import pandas as pd\n",
        "import numpy as np\n",
        "import pyspark.sql.functions as F\n",
        "from pyspark.ml import Pipeline\n",
        "from sparknlp.base import *\n",
        "from sparknlp.annotator import *\n",
        "from pyspark.sql import SparkSession\n",
        "from sparknlp.pretrained import PretrainedPipeline\n",
        "from pyspark.sql.types import StringType, IntegerType"
      ],
      "metadata": {
        "id": "P6UkILwP3lCM"
      },
      "execution_count": 12,
      "outputs": []
    },
    {
      "cell_type": "code",
      "source": [
        "# create spark session\n",
        "spark = sparknlp.start()\n",
        "print (\"Spark NLP Version :\", sparknlp.version())\n",
        "spark"
      ],
      "metadata": {
        "id": "W6fg1U-M3wCO",
        "colab": {
          "base_uri": "https://localhost:8080/",
          "height": 237
        },
        "outputId": "016c0ca3-277e-45ea-9e48-43e345e47688"
      },
      "execution_count": 13,
      "outputs": [
        {
          "output_type": "stream",
          "name": "stdout",
          "text": [
            "Spark NLP Version : 4.2.8\n"
          ]
        },
        {
          "output_type": "execute_result",
          "data": {
            "text/plain": [
              "<pyspark.sql.session.SparkSession at 0x7f90729593c0>"
            ],
            "text/html": [
              "\n",
              "            <div>\n",
              "                <p><b>SparkSession - in-memory</b></p>\n",
              "                \n",
              "        <div>\n",
              "            <p><b>SparkContext</b></p>\n",
              "\n",
              "            <p><a href=\"http://a416b3212c79:4040\">Spark UI</a></p>\n",
              "\n",
              "            <dl>\n",
              "              <dt>Version</dt>\n",
              "                <dd><code>v3.3.0</code></dd>\n",
              "              <dt>Master</dt>\n",
              "                <dd><code>local[*]</code></dd>\n",
              "              <dt>AppName</dt>\n",
              "                <dd><code>Spark NLP</code></dd>\n",
              "            </dl>\n",
              "        </div>\n",
              "        \n",
              "            </div>\n",
              "        "
            ]
          },
          "metadata": {},
          "execution_count": 13
        }
      ]
    },
    {
      "cell_type": "code",
      "source": [
        "#Detection model\n",
        "\n",
        "# model_name = 'ld_wiki_cnn_231'\n",
        "model_name = 'ld_wiki_tatoeba_cnn_375'"
      ],
      "metadata": {
        "id": "8rrnrUKh3k53"
      },
      "execution_count": 14,
      "outputs": []
    },
    {
      "cell_type": "code",
      "source": [
        "# Language Detection"
      ],
      "metadata": {
        "id": "oNtSZMr93kkU"
      },
      "execution_count": 8,
      "outputs": []
    },
    {
      "cell_type": "code",
      "source": [
        "#sample text\n",
        "text_list=[\n",
        "#English\n",
        "\"\"\"Mona Lisa is a 16th century oil painting created by Leonardo. It is held at the Louvre in Paris.\"\"\",\n",
        "#French\n",
        "\"\"\"La Joconde est une peinture à l'huile du XVIe siècle créée par Léonard. Il se tient au Louvre à Paris.\"\"\",\n",
        "#Bulgarian\n",
        "\"\"\"Джефри Еверест Хинтън е британски канадски когнитивен психолог и компютърен учен, най-известен с работата си върху изкуствени невронни мрежи. От 2013 г. той прекарва времето си в работа за Google и университета в Торонто. През 2017 г. е съосновател и става главен научен съветник на Vector Institute of Toronto.\"\"\",\n",
        "#Czech\n",
        "\"\"\"Mona Lisa je olejomalba ze 16. století, kterou vytvořil Leonardo. Koná se v Louvru v Paříži.\"\"\",\n",
        "#German\n",
        "\"\"\"Titanic ist ein 1997 in den USA veröffentlichter epischer Roman und ein katastrophaler Film, der von James Cameron inszeniert, geschrieben, co-produziert und mitherausgegeben wurde. Es deckt sowohl historische als auch fiktive Aspekte ab und basiert auf Berichten über den Untergang der RMS Titanic und der Stars Leonard DiCaprio und Kate Winslet als Mitglieder verschiedener sozialer Klassen, die sich während der Schiffsreise während ihrer unglücklichen ersten Reise verlieben.\"\"\",\n",
        "#Greek\n",
        "\"\"\"Το Titanic είναι ένα αμερικανικό επικό μυθιστόρημα του 1997 και μια καταστροφική ταινία σε σκηνοθεσία, συγγραφή, συμπαραγωγή και συν-επεξεργασία από τον James Cameron. Καλύπτει τόσο ιστορικές όσο και φανταστικές πτυχές και βασίζεται σε αναφορές για τη βύθιση του Τιτανικού RMS και πρωταγωνιστούν οι Leonard DiCaprio και Kate Winslet ως μέλη διαφόρων κοινωνικών τάξεων που ερωτεύονται κατά τη διάρκεια του ταξιδιού του πλοίου κατά τη διάρκεια του πρώτου τους ατυχούς ταξιδιού.\"\"\",\n",
        "#Spanish\n",
        "\"\"\"Geoffrey Everest Hinton es un psicólogo cognitivo y científico informático británico canadiense, mejor conocido por su trabajo en redes neuronales artificiales. Desde 2013 ha pasado su tiempo trabajando para Google y la Universidad de Toronto. En 2017 fue cofundador y se convirtió en Asesor Científico Jefe del Instituto Vector de Toronto.\"\"\",\n",
        "#Finnish\n",
        "\"\"\"Mona Lisa on 1500-luvun öljymaalaus, jonka on luonut Leonardo. Se pidetään Pariisin Louvressa.\"\"\",\n",
        "#Hungarian\n",
        "\"\"\"A természetes nyelvfeldolgozás története általában az 1950-es években kezdődött, bár a korábbi időszakokból származó munkák is megtalálhatók. 1950-ben Alan Turing közzétett egy cikket, melynek címe: „Számítástechnika és intelligenciagépek”, és amely intelligenciakritériumként javasolta a Turing-tesztet.\"\"\",\n",
        "#Norwegian\n",
        "\"\"\"Titanic er en amerikansk episk roman fra 1997 og katastrofal film regissert, skrevet, co-produsert og co-redigert av James Cameron. Det dekker både historiske og fiksjoniserte aspekter og er basert på rapporter om synkingen av RMS Titanic og stjernene Leonard DiCaprio og Kate Winslet som medlemmer av forskjellige sosiale klasser som forelsker seg under skipets seilas under deres uheldige første seilas.\"\"\",\n",
        "#Polish\n",
        "\"\"\"Poza tym, że jest królem północy, John Snow jest angielskim lekarzem i liderem w dziedzinie anestezjologii i higieny medycznej. Uważany jest za pierwszego, który wykorzystał dane do leczenia epidemii cholery w 1834 r.\"\"\",\n",
        "#Portuguese\n",
        "\"\"\"Geoffrey Everest Hinton é um psicólogo cognitivo britânico canadense e cientista da computação, mais conhecido por seu trabalho em redes neurais artificiais. Desde 2013, ele trabalha para o Google e a Universidade de Toronto. Em 2017, foi co-fundador e tornou-se Conselheiro Científico Chefe do Vector Institute of Toronto.\"\"\",\n",
        "#Romanian\n",
        "\"\"\"Mona Lisa este o pictură în ulei din secolul al XVI-lea creată de Leonardo. Se ține la Louvre din Paris.\"\"\",\n",
        "#Russian\n",
        "\"\"\"Когда в 2007 году Себастьян Трун начал работать над машинами для самостоятельного вождения в Google, мало кто за пределами компании воспринимал его всерьез.\"\"\",\n",
        "#Slovak\n",
        "\"\"\"John Snow je okrem anglického kráľa anglickým lekárom a lídrom vo vývoji anestézie a lekárskej hygieny. Je považovaný za prvého, ktorý používa údaje na liečenie prepuknutia cholery v roku 1834.\"\"\",\n",
        "#Swedish\n",
        "\"\"\"Mona Lisa är en oljemålning från 1500-talet skapad av Leonardo. Det hålls vid Louvre i Paris.\"\"\",\n",
        "#Turkish\n",
        "\"\"\"Mona Lisa, Leonardo tarafından yaratılan 16. yüzyıldan kalma bir yağlı boyadır. Paris'teki Louvre'da düzenleniyor.\"\"\",\n",
        "#Ukrainian\n",
        "\"\"\"Facebook - це послуга соціальних мереж, запущена під назвою TheFacebook 4 лютого 2004 року. Його заснував Марк Цукерберг разом зі своїми одноквартами та колегами Гарвардського університету Едуардо Саверином, Ендрю Макколлумом, Дастіном Московіцем та Крісом Х'юзом.\"\"\",\n",
        "#Italian\n",
        "\"\"\"Quando Sebastian Thrun ha iniziato a lavorare su auto a guida autonoma presso Google nel 2007, poche persone al di fuori dell'azienda lo hanno preso sul serio.\"\"\",\n",
        "]\n"
      ],
      "metadata": {
        "id": "4MSP83Mr3kdJ"
      },
      "execution_count": 10,
      "outputs": []
    },
    {
      "cell_type": "code",
      "source": [
        "# Spark Pipeline\n",
        "documentAssembler = DocumentAssembler().setInputCol(\"text\").setOutputCol(\"document\")\n",
        "\n",
        "sentence_detector = SentenceDetector() .setInputCols([\"document\"]).setOutputCol(\"sentence\")\n",
        "\n",
        "languageDetector = LanguageDetectorDL.pretrained(model_name).setInputCols(\"sentence\").setOutputCol(\"language\").setThreshold(0.5).setCoalesceSentences(True)\n",
        "\n",
        "nlpPipeline = Pipeline(\n",
        "    stages=[\n",
        "        documentAssembler,\n",
        "        sentence_detector,\n",
        "        languageDetector])\n",
        "\n",
        "\n"
      ],
      "metadata": {
        "id": "OcCfQ_HZ3kYx",
        "colab": {
          "base_uri": "https://localhost:8080/"
        },
        "outputId": "ea697843-670b-4573-895f-80c06b0d51b5"
      },
      "execution_count": 15,
      "outputs": [
        {
          "output_type": "stream",
          "name": "stdout",
          "text": [
            "ld_wiki_tatoeba_cnn_375 download started this may take some time.\n",
            "Approximate size to download 8.8 MB\n",
            "[OK!]\n"
          ]
        }
      ]
    },
    {
      "cell_type": "code",
      "source": [
        "# Run Spark NLP Pipeline\n",
        "df = spark.createDataFrame(text_list, StringType()).toDF(\"text\")\n",
        "result = nlpPipeline.fit(df).transform(df)"
      ],
      "metadata": {
        "id": "1vwhCcxb3kVe"
      },
      "execution_count": 16,
      "outputs": []
    },
    {
      "cell_type": "code",
      "source": [
        "#print results\n",
        "\n",
        "result.select(F.explode(F.arrays_zip(result.document.result,\n",
        "                                     result.language.result)).alias(\"cols\")) \\\n",
        "      .select(F.expr(\"cols['0']\").alias(\"Document\"),\n",
        "              F.expr(\"cols['1']\").alias(\"Language\")).show(truncate=100)"
      ],
      "metadata": {
        "id": "OT0w74Le3kLw",
        "colab": {
          "base_uri": "https://localhost:8080/"
        },
        "outputId": "a4d3297a-44fc-435a-ed55-76838cb85686"
      },
      "execution_count": 17,
      "outputs": [
        {
          "output_type": "stream",
          "name": "stdout",
          "text": [
            "+----------------------------------------------------------------------------------------------------+--------+\n",
            "|                                                                                            Document|Language|\n",
            "+----------------------------------------------------------------------------------------------------+--------+\n",
            "|    Mona Lisa is a 16th century oil painting created by Leonardo. It is held at the Louvre in Paris.|      en|\n",
            "|La Joconde est une peinture à l'huile du XVIe siècle créée par Léonard. Il se tient au Louvre à P...|      fr|\n",
            "|Джефри Еверест Хинтън е британски канадски когнитивен психолог и компютърен учен, най-известен с ...|      bg|\n",
            "|        Mona Lisa je olejomalba ze 16. století, kterou vytvořil Leonardo. Koná se v Louvru v Paříži.|      cs|\n",
            "|Titanic ist ein 1997 in den USA veröffentlichter epischer Roman und ein katastrophaler Film, der ...|      de|\n",
            "|Το Titanic είναι ένα αμερικανικό επικό μυθιστόρημα του 1997 και μια καταστροφική ταινία σε σκηνοθ...|      el|\n",
            "|Geoffrey Everest Hinton es un psicólogo cognitivo y científico informático británico canadiense, ...|      es|\n",
            "|      Mona Lisa on 1500-luvun öljymaalaus, jonka on luonut Leonardo. Se pidetään Pariisin Louvressa.|      fi|\n",
            "|A természetes nyelvfeldolgozás története általában az 1950-es években kezdődött, bár a korábbi id...|      hu|\n",
            "|Titanic er en amerikansk episk roman fra 1997 og katastrofal film regissert, skrevet, co-produser...|      no|\n",
            "|Poza tym, że jest królem północy, John Snow jest angielskim lekarzem i liderem w dziedzinie anest...|      pl|\n",
            "|Geoffrey Everest Hinton é um psicólogo cognitivo britânico canadense e cientista da computação, m...|      pt|\n",
            "|Mona Lisa este o pictură în ulei din secolul al XVI-lea creată de Leonardo. Se ține la Louvre din...|      ro|\n",
            "|Когда в 2007 году Себастьян Трун начал работать над машинами для самостоятельного вождения в Goog...|      ru|\n",
            "|John Snow je okrem anglického kráľa anglickým lekárom a lídrom vo vývoji anestézie a lekárskej hy...|      sk|\n",
            "|       Mona Lisa är en oljemålning från 1500-talet skapad av Leonardo. Det hålls vid Louvre i Paris.|      sv|\n",
            "|Mona Lisa, Leonardo tarafından yaratılan 16. yüzyıldan kalma bir yağlı boyadır. Paris'teki Louvre...|      tr|\n",
            "|Facebook - це послуга соціальних мереж, запущена під назвою TheFacebook 4 лютого 2004 року. Його ...|      uk|\n",
            "|Quando Sebastian Thrun ha iniziato a lavorare su auto a guida autonoma presso Google nel 2007, po...|      it|\n",
            "+----------------------------------------------------------------------------------------------------+--------+\n",
            "\n"
          ]
        }
      ]
    },
    {
      "cell_type": "code",
      "source": [
        "# Step 1: Transforms raw texts to `document` annotation\n",
        "document_assembler = (\n",
        "    DocumentAssembler()\n",
        "    .setInputCol(\"text\")\n",
        "    .setOutputCol(\"document\")\n",
        ")\n",
        "# Step 2: Determines the language of the text\n",
        "languageDetector = (\n",
        "    LanguageDetectorDL.pretrained()\n",
        "    .setInputCols(\"document\")\n",
        "    .setOutputCol(\"language\")\n",
        ")\n",
        "\n",
        "nlpPipeline = Pipeline(stages=[document_assembler, languageDetector])\n",
        "\n",
        "\n",
        "\n",
        "# Create a dataframe from the sample texts in different languages\n",
        "data = spark.createDataFrame([\n",
        "    [\"User Query Fetched through API/Pipeline\"],\n",
        "    [\"Spark NLP est une bibliothèque de traitement de texte open source pour le traitement avancé du langage naturel pour les langages de programmation Python, Java et Scala.\"]]).toDF(\"text\")"
      ],
      "metadata": {
        "colab": {
          "base_uri": "https://localhost:8080/"
        },
        "id": "r-yONLVTRb6Q",
        "outputId": "51800728-e6da-4730-f32c-651f29214c66"
      },
      "execution_count": 40,
      "outputs": [
        {
          "output_type": "stream",
          "name": "stdout",
          "text": [
            "ld_wiki_tatoeba_cnn_21 download started this may take some time.\n",
            "Approximate size to download 7.1 MB\n",
            "[OK!]\n"
          ]
        }
      ]
    },
    {
      "cell_type": "code",
      "source": [
        "#nlp pipeline\n",
        "nlpPipeline = Pipeline(stages=[document_assembler, languageDetector])"
      ],
      "metadata": {
        "id": "7tBdhIAWSeWe"
      },
      "execution_count": 41,
      "outputs": []
    },
    {
      "cell_type": "code",
      "source": [
        "# multi-language detection\n",
        "\n",
        "result = nlpPipeline.fit(data).transform(data)\n",
        "result.select(\"text\", \"language.result\").show()"
      ],
      "metadata": {
        "colab": {
          "base_uri": "https://localhost:8080/"
        },
        "id": "UwDGr3UnTSRO",
        "outputId": "458734b4-7a81-47a5-b790-52cd66ed3d12"
      },
      "execution_count": 43,
      "outputs": [
        {
          "output_type": "stream",
          "name": "stdout",
          "text": [
            "+--------------------+------+\n",
            "|                text|result|\n",
            "+--------------------+------+\n",
            "|User Query Fetche...|  [en]|\n",
            "|Spark NLP est une...|  [fr]|\n",
            "+--------------------+------+\n",
            "\n"
          ]
        }
      ]
    },
    {
      "cell_type": "code",
      "source": [
        "# Language tranlation model"
      ],
      "metadata": {
        "id": "lSRiLZg0Txpi"
      },
      "execution_count": null,
      "outputs": []
    }
  ]
}